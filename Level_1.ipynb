{
  "nbformat": 4,
  "nbformat_minor": 0,
  "metadata": {
    "colab": {
      "name": "Level 1.ipynb",
      "provenance": [],
      "collapsed_sections": []
    },
    "kernelspec": {
      "name": "python3",
      "display_name": "Python 3"
    },
    "language_info": {
      "name": "python"
    }
  },
  "cells": [
    {
      "cell_type": "code",
      "metadata": {
        "id": "Ezt-VbhUDuwg"
      },
      "source": [
        "def decode(x):\n",
        "    asc = ord(x)\n",
        "    if asc >= 97 and asc <= 122:\n",
        "        x = str(chr(-1*asc + 219))\n",
        "    return x\n",
        "\n",
        "def solution(x):\n",
        "    new_letter = \"\"\n",
        "    for i in range(len(x)):\n",
        "        new_letter = new_letter + decode(x[i])\n",
        "    print(new_letter)"
      ],
      "execution_count": null,
      "outputs": []
    },
    {
      "cell_type": "code",
      "metadata": {
        "colab": {
          "base_uri": "https://localhost:8080/"
        },
        "id": "_Dkb78O1DwS5",
        "outputId": "4c4b08d2-2f58-457e-86f5-19fe5e44f978"
      },
      "source": [
        "solution(\"Yvzs! I xzm'g yvorvev Lzmxv olhg srh qly zg gsv xlolmb!!\")"
      ],
      "execution_count": null,
      "outputs": [
        {
          "output_type": "stream",
          "name": "stdout",
          "text": [
            "Yeah! I can't believe Lance lost his job at the colony!!\n"
          ]
        }
      ]
    },
    {
      "cell_type": "code",
      "metadata": {
        "colab": {
          "base_uri": "https://localhost:8080/"
        },
        "id": "vFaqmkIGECLX",
        "outputId": "cd35f637-587f-4b5a-b423-d11fb0897537"
      },
      "source": [
        "x = \"z\"\n",
        "asc = ord(x)\n",
        "# if asc >= 97 and asc <= 122:\n",
        "  # x = str(chr(-1*asc))\n",
        "print(-1*asc)\n",
        "print(x)"
      ],
      "execution_count": null,
      "outputs": [
        {
          "output_type": "stream",
          "name": "stdout",
          "text": [
            "-122\n",
            "z\n"
          ]
        }
      ]
    },
    {
      "cell_type": "code",
      "metadata": {
        "colab": {
          "base_uri": "https://localhost:8080/"
        },
        "id": "7ChGsjn-EaZG",
        "outputId": "43a5c803-ae6c-48d2-fd1a-b9cbef2a1b51"
      },
      "source": [
        "print(asc)"
      ],
      "execution_count": null,
      "outputs": [
        {
          "output_type": "stream",
          "name": "stdout",
          "text": [
            "122\n"
          ]
        }
      ]
    },
    {
      "cell_type": "code",
      "metadata": {
        "colab": {
          "base_uri": "https://localhost:8080/"
        },
        "id": "5WRBUT3mErpm",
        "outputId": "472952b1-75a3-413d-83c0-c3c0f7a89483"
      },
      "source": [
        "122 + 122"
      ],
      "execution_count": null,
      "outputs": [
        {
          "output_type": "execute_result",
          "data": {
            "text/plain": [
              "244"
            ]
          },
          "metadata": {},
          "execution_count": 15
        }
      ]
    },
    {
      "cell_type": "code",
      "metadata": {
        "colab": {
          "base_uri": "https://localhost:8080/"
        },
        "id": "5759bmYOE0ND",
        "outputId": "724344b2-4d2d-4338-dbff-69c736651fa7"
      },
      "source": [
        "-98 + 219"
      ],
      "execution_count": null,
      "outputs": [
        {
          "output_type": "execute_result",
          "data": {
            "text/plain": [
              "121"
            ]
          },
          "metadata": {},
          "execution_count": 18
        }
      ]
    },
    {
      "cell_type": "code",
      "metadata": {
        "colab": {
          "base_uri": "https://localhost:8080/"
        },
        "id": "7WUv0_vNFJYu",
        "outputId": "bf4a186a-b7ee-442a-a5d9-d8a96afcbf15"
      },
      "source": [
        "asc = ord(\"a\")\n",
        "print(asc)"
      ],
      "execution_count": null,
      "outputs": [
        {
          "output_type": "stream",
          "name": "stdout",
          "text": [
            "97\n"
          ]
        }
      ]
    },
    {
      "cell_type": "code",
      "metadata": {
        "colab": {
          "base_uri": "https://localhost:8080/"
        },
        "id": "-aQYZZ4RFX02",
        "outputId": "257a2dbd-1cb0-4f61-877d-6d769c200f16"
      },
      "source": [
        "122-97"
      ],
      "execution_count": null,
      "outputs": [
        {
          "output_type": "execute_result",
          "data": {
            "text/plain": [
              "25"
            ]
          },
          "metadata": {},
          "execution_count": 21
        }
      ]
    }
  ]
}